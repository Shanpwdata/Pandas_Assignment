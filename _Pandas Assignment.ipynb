{
 "cells": [
  {
   "cell_type": "code",
   "execution_count": 1,
   "id": "8e954ebb-d544-449e-b1c4-6932df4721df",
   "metadata": {},
   "outputs": [
    {
     "data": {
      "text/html": [
       "<div>\n",
       "<style scoped>\n",
       "    .dataframe tbody tr th:only-of-type {\n",
       "        vertical-align: middle;\n",
       "    }\n",
       "\n",
       "    .dataframe tbody tr th {\n",
       "        vertical-align: top;\n",
       "    }\n",
       "\n",
       "    .dataframe thead th {\n",
       "        text-align: right;\n",
       "    }\n",
       "</style>\n",
       "<table border=\"1\" class=\"dataframe\">\n",
       "  <thead>\n",
       "    <tr style=\"text-align: right;\">\n",
       "      <th></th>\n",
       "      <th>course_name</th>\n",
       "      <th>duration</th>\n",
       "    </tr>\n",
       "  </thead>\n",
       "  <tbody>\n",
       "    <tr>\n",
       "      <th>0</th>\n",
       "      <td>Data Science</td>\n",
       "      <td>2</td>\n",
       "    </tr>\n",
       "    <tr>\n",
       "      <th>1</th>\n",
       "      <td>Machine Learning</td>\n",
       "      <td>3</td>\n",
       "    </tr>\n",
       "    <tr>\n",
       "      <th>2</th>\n",
       "      <td>Big Data</td>\n",
       "      <td>6</td>\n",
       "    </tr>\n",
       "    <tr>\n",
       "      <th>3</th>\n",
       "      <td>Data Engineer</td>\n",
       "      <td>4</td>\n",
       "    </tr>\n",
       "  </tbody>\n",
       "</table>\n",
       "</div>"
      ],
      "text/plain": [
       "        course_name  duration\n",
       "0      Data Science         2\n",
       "1  Machine Learning         3\n",
       "2          Big Data         6\n",
       "3     Data Engineer         4"
      ]
     },
     "execution_count": 1,
     "metadata": {},
     "output_type": "execute_result"
    }
   ],
   "source": [
    "#####Consider following code to answer further questions:\n",
    "import pandas as pd\n",
    "course_name = ['Data Science', 'Machine Learning', 'Big Data', 'Data Engineer']\n",
    "duration = [2,3,6,4]\n",
    "df = pd.DataFrame(data = {'course_name' : course_name, 'duration' : duration})\n",
    "df"
   ]
  },
  {
   "cell_type": "markdown",
   "id": "20584dc4-af7f-4b14-aea1-d1500cf95884",
   "metadata": {},
   "source": [
    "Q1. Write a code to print the data present in the second row of the dataframe, df."
   ]
  },
  {
   "cell_type": "code",
   "execution_count": 2,
   "id": "3ae39097-a814-4361-93ca-c90bf344d93a",
   "metadata": {},
   "outputs": [
    {
     "data": {
      "text/plain": [
       "course_name    Big Data\n",
       "duration              6\n",
       "Name: 2, dtype: object"
      ]
     },
     "execution_count": 2,
     "metadata": {},
     "output_type": "execute_result"
    }
   ],
   "source": [
    "#Ans_1.\n",
    "df.iloc[2]"
   ]
  },
  {
   "cell_type": "markdown",
   "id": "85a8381f-7fa2-4769-8958-4280b4b5f7f9",
   "metadata": {},
   "source": [
    "Q2. What is the difference between the functions loc and iloc in pandas.DataFrame?"
   ]
  },
  {
   "cell_type": "markdown",
   "id": "abd68bd2-fc63-4c1e-8655-9950dd8e3bfd",
   "metadata": {},
   "source": [
    "#Ans_2.\n",
    "The loc and iloc functions in Pandas are used to slice a data set. The function (.loc) is primarily used for label indexing, while (.iloc) is mainly used for integer indexing."
   ]
  },
  {
   "cell_type": "markdown",
   "id": "a315efa0-5657-496a-83f3-c98d16f52008",
   "metadata": {},
   "source": [
    "Q3. Reindex the given dataframe using a variable, reindex = [3,0,1,2] and store it in the variable, new_df\n",
    "then find the output for both new_df.loc[2] and new_df.iloc[2]."
   ]
  },
  {
   "cell_type": "code",
   "execution_count": 3,
   "id": "8f873fd0-9a55-420f-9bb1-d0825cc4d868",
   "metadata": {},
   "outputs": [
    {
     "data": {
      "text/html": [
       "<div>\n",
       "<style scoped>\n",
       "    .dataframe tbody tr th:only-of-type {\n",
       "        vertical-align: middle;\n",
       "    }\n",
       "\n",
       "    .dataframe tbody tr th {\n",
       "        vertical-align: top;\n",
       "    }\n",
       "\n",
       "    .dataframe thead th {\n",
       "        text-align: right;\n",
       "    }\n",
       "</style>\n",
       "<table border=\"1\" class=\"dataframe\">\n",
       "  <thead>\n",
       "    <tr style=\"text-align: right;\">\n",
       "      <th></th>\n",
       "      <th>column_1</th>\n",
       "      <th>column_2</th>\n",
       "      <th>column_3</th>\n",
       "      <th>column_4</th>\n",
       "      <th>column_5</th>\n",
       "      <th>column_6</th>\n",
       "    </tr>\n",
       "  </thead>\n",
       "  <tbody>\n",
       "    <tr>\n",
       "      <th>1</th>\n",
       "      <td>0.553855</td>\n",
       "      <td>0.525496</td>\n",
       "      <td>0.222866</td>\n",
       "      <td>0.775951</td>\n",
       "      <td>0.335441</td>\n",
       "      <td>0.947950</td>\n",
       "    </tr>\n",
       "    <tr>\n",
       "      <th>2</th>\n",
       "      <td>0.457167</td>\n",
       "      <td>0.323699</td>\n",
       "      <td>0.475303</td>\n",
       "      <td>0.509553</td>\n",
       "      <td>0.307536</td>\n",
       "      <td>0.169444</td>\n",
       "    </tr>\n",
       "    <tr>\n",
       "      <th>3</th>\n",
       "      <td>0.134863</td>\n",
       "      <td>0.158672</td>\n",
       "      <td>0.631018</td>\n",
       "      <td>0.477379</td>\n",
       "      <td>0.338158</td>\n",
       "      <td>0.602559</td>\n",
       "    </tr>\n",
       "    <tr>\n",
       "      <th>4</th>\n",
       "      <td>0.360193</td>\n",
       "      <td>0.778543</td>\n",
       "      <td>0.583147</td>\n",
       "      <td>0.531868</td>\n",
       "      <td>0.139288</td>\n",
       "      <td>0.875462</td>\n",
       "    </tr>\n",
       "    <tr>\n",
       "      <th>5</th>\n",
       "      <td>0.306158</td>\n",
       "      <td>0.679042</td>\n",
       "      <td>0.227281</td>\n",
       "      <td>0.635401</td>\n",
       "      <td>0.322413</td>\n",
       "      <td>0.036549</td>\n",
       "    </tr>\n",
       "    <tr>\n",
       "      <th>6</th>\n",
       "      <td>0.879128</td>\n",
       "      <td>0.266124</td>\n",
       "      <td>0.492975</td>\n",
       "      <td>0.158844</td>\n",
       "      <td>0.857686</td>\n",
       "      <td>0.578261</td>\n",
       "    </tr>\n",
       "  </tbody>\n",
       "</table>\n",
       "</div>"
      ],
      "text/plain": [
       "   column_1  column_2  column_3  column_4  column_5  column_6\n",
       "1  0.553855  0.525496  0.222866  0.775951  0.335441  0.947950\n",
       "2  0.457167  0.323699  0.475303  0.509553  0.307536  0.169444\n",
       "3  0.134863  0.158672  0.631018  0.477379  0.338158  0.602559\n",
       "4  0.360193  0.778543  0.583147  0.531868  0.139288  0.875462\n",
       "5  0.306158  0.679042  0.227281  0.635401  0.322413  0.036549\n",
       "6  0.879128  0.266124  0.492975  0.158844  0.857686  0.578261"
      ]
     },
     "execution_count": 3,
     "metadata": {},
     "output_type": "execute_result"
    }
   ],
   "source": [
    "#Did you observe any difference in both the outputs? If so then explain it.\n",
    "#Consider the below code to answer further questions:\n",
    "import pandas as pd\n",
    "import numpy as np\n",
    "columns = ['column_1', 'column_2', 'column_3', 'column_4', 'column_5', 'column_6']\n",
    "indices = [1,2,3,4,5,6]\n",
    "#Creating a dataframe:\n",
    "df1 = pd.DataFrame(np.random.rand(6,6), columns = columns, index = indices)\n",
    "df1"
   ]
  },
  {
   "cell_type": "code",
   "execution_count": 4,
   "id": "f5e58292-0d22-4b7c-bd1e-974de11643e6",
   "metadata": {},
   "outputs": [
    {
     "data": {
      "text/html": [
       "<div>\n",
       "<style scoped>\n",
       "    .dataframe tbody tr th:only-of-type {\n",
       "        vertical-align: middle;\n",
       "    }\n",
       "\n",
       "    .dataframe tbody tr th {\n",
       "        vertical-align: top;\n",
       "    }\n",
       "\n",
       "    .dataframe thead th {\n",
       "        text-align: right;\n",
       "    }\n",
       "</style>\n",
       "<table border=\"1\" class=\"dataframe\">\n",
       "  <thead>\n",
       "    <tr style=\"text-align: right;\">\n",
       "      <th></th>\n",
       "      <th>column_1</th>\n",
       "      <th>column_2</th>\n",
       "      <th>column_3</th>\n",
       "      <th>column_4</th>\n",
       "      <th>column_5</th>\n",
       "      <th>column_6</th>\n",
       "    </tr>\n",
       "  </thead>\n",
       "  <tbody>\n",
       "    <tr>\n",
       "      <th>3</th>\n",
       "      <td>0.134863</td>\n",
       "      <td>0.158672</td>\n",
       "      <td>0.631018</td>\n",
       "      <td>0.477379</td>\n",
       "      <td>0.338158</td>\n",
       "      <td>0.602559</td>\n",
       "    </tr>\n",
       "    <tr>\n",
       "      <th>0</th>\n",
       "      <td>NaN</td>\n",
       "      <td>NaN</td>\n",
       "      <td>NaN</td>\n",
       "      <td>NaN</td>\n",
       "      <td>NaN</td>\n",
       "      <td>NaN</td>\n",
       "    </tr>\n",
       "    <tr>\n",
       "      <th>1</th>\n",
       "      <td>0.553855</td>\n",
       "      <td>0.525496</td>\n",
       "      <td>0.222866</td>\n",
       "      <td>0.775951</td>\n",
       "      <td>0.335441</td>\n",
       "      <td>0.947950</td>\n",
       "    </tr>\n",
       "    <tr>\n",
       "      <th>2</th>\n",
       "      <td>0.457167</td>\n",
       "      <td>0.323699</td>\n",
       "      <td>0.475303</td>\n",
       "      <td>0.509553</td>\n",
       "      <td>0.307536</td>\n",
       "      <td>0.169444</td>\n",
       "    </tr>\n",
       "  </tbody>\n",
       "</table>\n",
       "</div>"
      ],
      "text/plain": [
       "   column_1  column_2  column_3  column_4  column_5  column_6\n",
       "3  0.134863  0.158672  0.631018  0.477379  0.338158  0.602559\n",
       "0       NaN       NaN       NaN       NaN       NaN       NaN\n",
       "1  0.553855  0.525496  0.222866  0.775951  0.335441  0.947950\n",
       "2  0.457167  0.323699  0.475303  0.509553  0.307536  0.169444"
      ]
     },
     "execution_count": 4,
     "metadata": {},
     "output_type": "execute_result"
    }
   ],
   "source": [
    "new_df = df1.head(4).reindex([3,0,1,2])\n",
    "new_df"
   ]
  },
  {
   "cell_type": "code",
   "execution_count": 5,
   "id": "4825d4eb-0418-4a49-82e4-fe467184c3b0",
   "metadata": {},
   "outputs": [
    {
     "data": {
      "text/plain": [
       "column_1    0.457167\n",
       "column_2    0.323699\n",
       "column_3    0.475303\n",
       "column_4    0.509553\n",
       "column_5    0.307536\n",
       "column_6    0.169444\n",
       "Name: 2, dtype: float64"
      ]
     },
     "execution_count": 5,
     "metadata": {},
     "output_type": "execute_result"
    }
   ],
   "source": [
    "new_df.loc[2]"
   ]
  },
  {
   "cell_type": "code",
   "execution_count": 6,
   "id": "098c6760-5e72-473c-85b1-e2eeaa656ec8",
   "metadata": {},
   "outputs": [
    {
     "data": {
      "text/plain": [
       "column_1    0.553855\n",
       "column_2    0.525496\n",
       "column_3    0.222866\n",
       "column_4    0.775951\n",
       "column_5    0.335441\n",
       "column_6    0.947950\n",
       "Name: 1, dtype: float64"
      ]
     },
     "execution_count": 6,
     "metadata": {},
     "output_type": "execute_result"
    }
   ],
   "source": [
    "new_df.iloc[2]"
   ]
  },
  {
   "cell_type": "markdown",
   "id": "beb4b51e-3e63-4948-acfd-982cad4f056f",
   "metadata": {},
   "source": [
    "Q4. Write a code to find the following statistical measurements for the above dataframe df1:\n",
    "(i) mean of each and every column present in the dataframe.\n",
    "(ii) standard deviation of column, ‘column_2’"
   ]
  },
  {
   "cell_type": "code",
   "execution_count": 7,
   "id": "d86fc193-9872-4a54-a769-bc6e21ae1c35",
   "metadata": {},
   "outputs": [
    {
     "data": {
      "text/plain": [
       "column_1    0.448561\n",
       "column_2    0.455263\n",
       "column_3    0.438765\n",
       "column_4    0.514833\n",
       "column_5    0.383420\n",
       "column_6    0.535037\n",
       "dtype: float64"
      ]
     },
     "execution_count": 7,
     "metadata": {},
     "output_type": "execute_result"
    }
   ],
   "source": [
    "#Ans_4.\n",
    "df1.mean()"
   ]
  },
  {
   "cell_type": "code",
   "execution_count": 8,
   "id": "e711d869-3a57-4d0e-91da-5b3b0a41cf4e",
   "metadata": {},
   "outputs": [
    {
     "data": {
      "text/plain": [
       "0.2451810717113444"
      ]
     },
     "execution_count": 8,
     "metadata": {},
     "output_type": "execute_result"
    }
   ],
   "source": [
    "df1['column_2'].std()"
   ]
  },
  {
   "cell_type": "markdown",
   "id": "2a1641ae-cd22-4c7c-8053-794a12bccc6b",
   "metadata": {},
   "source": [
    "Q5. Replace the data present in the second row of column, ‘column_2’ by a string variable then find the\n",
    "mean of column, column_2.\n",
    "If you are getting errors in executing it then explain why.\n",
    "[Hint: To replace the data use df1.loc[] and equate this to string data of your choice.]"
   ]
  },
  {
   "cell_type": "code",
   "execution_count": 9,
   "id": "efda51ab-86a1-49ef-b86b-f15388b6011a",
   "metadata": {},
   "outputs": [
    {
     "data": {
      "text/html": [
       "<div>\n",
       "<style scoped>\n",
       "    .dataframe tbody tr th:only-of-type {\n",
       "        vertical-align: middle;\n",
       "    }\n",
       "\n",
       "    .dataframe tbody tr th {\n",
       "        vertical-align: top;\n",
       "    }\n",
       "\n",
       "    .dataframe thead th {\n",
       "        text-align: right;\n",
       "    }\n",
       "</style>\n",
       "<table border=\"1\" class=\"dataframe\">\n",
       "  <thead>\n",
       "    <tr style=\"text-align: right;\">\n",
       "      <th></th>\n",
       "      <th>column_1</th>\n",
       "      <th>column_2</th>\n",
       "      <th>column_3</th>\n",
       "      <th>column_4</th>\n",
       "      <th>column_5</th>\n",
       "      <th>column_6</th>\n",
       "    </tr>\n",
       "  </thead>\n",
       "  <tbody>\n",
       "    <tr>\n",
       "      <th>1</th>\n",
       "      <td>0.553855</td>\n",
       "      <td>0.525496</td>\n",
       "      <td>0.222866</td>\n",
       "      <td>0.775951</td>\n",
       "      <td>0.335441</td>\n",
       "      <td>0.947950</td>\n",
       "    </tr>\n",
       "    <tr>\n",
       "      <th>2</th>\n",
       "      <td>0.457167</td>\n",
       "      <td>0.323699</td>\n",
       "      <td>0.475303</td>\n",
       "      <td>0.509553</td>\n",
       "      <td>0.307536</td>\n",
       "      <td>0.169444</td>\n",
       "    </tr>\n",
       "    <tr>\n",
       "      <th>3</th>\n",
       "      <td>0.134863</td>\n",
       "      <td>0.158672</td>\n",
       "      <td>0.631018</td>\n",
       "      <td>0.477379</td>\n",
       "      <td>0.338158</td>\n",
       "      <td>0.602559</td>\n",
       "    </tr>\n",
       "    <tr>\n",
       "      <th>4</th>\n",
       "      <td>0.360193</td>\n",
       "      <td>0.778543</td>\n",
       "      <td>0.583147</td>\n",
       "      <td>0.531868</td>\n",
       "      <td>0.139288</td>\n",
       "      <td>0.875462</td>\n",
       "    </tr>\n",
       "    <tr>\n",
       "      <th>5</th>\n",
       "      <td>0.306158</td>\n",
       "      <td>0.679042</td>\n",
       "      <td>0.227281</td>\n",
       "      <td>0.635401</td>\n",
       "      <td>0.322413</td>\n",
       "      <td>0.036549</td>\n",
       "    </tr>\n",
       "    <tr>\n",
       "      <th>6</th>\n",
       "      <td>0.879128</td>\n",
       "      <td>0.266124</td>\n",
       "      <td>0.492975</td>\n",
       "      <td>0.158844</td>\n",
       "      <td>0.857686</td>\n",
       "      <td>0.578261</td>\n",
       "    </tr>\n",
       "  </tbody>\n",
       "</table>\n",
       "</div>"
      ],
      "text/plain": [
       "   column_1  column_2  column_3  column_4  column_5  column_6\n",
       "1  0.553855  0.525496  0.222866  0.775951  0.335441  0.947950\n",
       "2  0.457167  0.323699  0.475303  0.509553  0.307536  0.169444\n",
       "3  0.134863  0.158672  0.631018  0.477379  0.338158  0.602559\n",
       "4  0.360193  0.778543  0.583147  0.531868  0.139288  0.875462\n",
       "5  0.306158  0.679042  0.227281  0.635401  0.322413  0.036549\n",
       "6  0.879128  0.266124  0.492975  0.158844  0.857686  0.578261"
      ]
     },
     "execution_count": 9,
     "metadata": {},
     "output_type": "execute_result"
    }
   ],
   "source": [
    "df1"
   ]
  },
  {
   "cell_type": "code",
   "execution_count": 10,
   "id": "d46c5553-3bf7-4f51-83d3-762340a0d548",
   "metadata": {},
   "outputs": [],
   "source": [
    "#Ans_5.\n",
    "df1.loc[2,'column_2'] = 'String_data'"
   ]
  },
  {
   "cell_type": "markdown",
   "id": "59a08f99-a5f5-4b9c-96ed-89c67b6d3a45",
   "metadata": {},
   "source": [
    "column_2_mean = df1['column_2'].mean()\n",
    "#TypeError because its mixed data types in 'column_2' (numeric and string), and we cannot calculate the mean of such a column directly. To calculate the mean of 'column_2', we need to ensure that all the data in that column is of a numeric data type. If we need to work with both numeric and string data, we need to consider data type conversion or handle the string data separately."
   ]
  },
  {
   "cell_type": "markdown",
   "id": "1ae59f25-a268-4d1f-bd58-8aa45ec85dab",
   "metadata": {},
   "source": [
    "Q6. What do you understand about the windows function in pandas and list the types of windows\n",
    "functions?"
   ]
  },
  {
   "cell_type": "markdown",
   "id": "8f24f09e-a2e4-46f7-9853-ac0e5ee95583",
   "metadata": {},
   "source": [
    "#Ans_6.\n",
    "The window functions in Pandas are used to perform some sort of calculations across a set of rows that are interrelated with the current row. The Windows functions help us to perform the aggregated calculations across various partitions or cross-sections of the data.\n",
    "Different Window Operations in Pandas\n",
    "* Group by\n",
    "* Rolling\n",
    "* Expanding\n",
    "* Exponentially Weighted Window"
   ]
  },
  {
   "cell_type": "markdown",
   "id": "eb30c738-a75c-4c66-a0f6-777f9bd36f8a",
   "metadata": {},
   "source": [
    "Q7. Write a code to print only the current month and year at the time of answering this question.\n",
    "[Hint: Use pandas.datetime function]"
   ]
  },
  {
   "cell_type": "code",
   "execution_count": 11,
   "id": "bd4b5ea7-ebc8-4a32-96fb-a561f3ae4c80",
   "metadata": {},
   "outputs": [],
   "source": [
    "#Ans_7.\n",
    "dt = pd.to_datetime('2023-9-3 13:30')"
   ]
  },
  {
   "cell_type": "code",
   "execution_count": 12,
   "id": "148ba676-89cb-4a62-8ea5-63d2223fa636",
   "metadata": {},
   "outputs": [
    {
     "data": {
      "text/plain": [
       "Timestamp('2023-09-03 13:30:00')"
      ]
     },
     "execution_count": 12,
     "metadata": {},
     "output_type": "execute_result"
    }
   ],
   "source": [
    "dt"
   ]
  },
  {
   "cell_type": "code",
   "execution_count": 13,
   "id": "53858ee2-88fc-4320-ac91-e80eb8911353",
   "metadata": {},
   "outputs": [
    {
     "data": {
      "text/plain": [
       "2023"
      ]
     },
     "execution_count": 13,
     "metadata": {},
     "output_type": "execute_result"
    }
   ],
   "source": [
    "dt.year"
   ]
  },
  {
   "cell_type": "code",
   "execution_count": 14,
   "id": "d016e458-9f05-41ce-969b-fe8ff896eec4",
   "metadata": {},
   "outputs": [
    {
     "data": {
      "text/plain": [
       "9"
      ]
     },
     "execution_count": 14,
     "metadata": {},
     "output_type": "execute_result"
    }
   ],
   "source": [
    "dt.month"
   ]
  },
  {
   "cell_type": "markdown",
   "id": "01f09c7b-2ba0-4598-904a-1d0275bdd275",
   "metadata": {},
   "source": [
    "Q8. Write a Python program that takes in two dates as input (in the format YYYY-MM-DD) and\n",
    "calculates the difference between them in days, hours, and minutes using Pandas time delta. The\n",
    "program should prompt the user to enter the dates and display the result."
   ]
  },
  {
   "cell_type": "code",
   "execution_count": 15,
   "id": "ceed8631-3f2a-4173-aae6-4e3ae739fbba",
   "metadata": {},
   "outputs": [
    {
     "name": "stdin",
     "output_type": "stream",
     "text": [
      "Enter the first date and time (YYYY-MM-DD) :  2023-9-3\n",
      "Enter the second date and time (YYYY-MM-DD):  2023-9-5\n"
     ]
    },
    {
     "data": {
      "text/html": [
       "<div>\n",
       "<style scoped>\n",
       "    .dataframe tbody tr th:only-of-type {\n",
       "        vertical-align: middle;\n",
       "    }\n",
       "\n",
       "    .dataframe tbody tr th {\n",
       "        vertical-align: top;\n",
       "    }\n",
       "\n",
       "    .dataframe thead th {\n",
       "        text-align: right;\n",
       "    }\n",
       "</style>\n",
       "<table border=\"1\" class=\"dataframe\">\n",
       "  <thead>\n",
       "    <tr style=\"text-align: right;\">\n",
       "      <th></th>\n",
       "      <th>start_date</th>\n",
       "      <th>end_date</th>\n",
       "      <th>diff</th>\n",
       "      <th>diff_minutes</th>\n",
       "      <th>diff_hours</th>\n",
       "    </tr>\n",
       "  </thead>\n",
       "  <tbody>\n",
       "    <tr>\n",
       "      <th>0</th>\n",
       "      <td>2023-09-03</td>\n",
       "      <td>2023-09-05</td>\n",
       "      <td>2 days</td>\n",
       "      <td>2880.0</td>\n",
       "      <td>48.0</td>\n",
       "    </tr>\n",
       "  </tbody>\n",
       "</table>\n",
       "</div>"
      ],
      "text/plain": [
       "  start_date   end_date   diff  diff_minutes  diff_hours\n",
       "0 2023-09-03 2023-09-05 2 days        2880.0        48.0"
      ]
     },
     "execution_count": 15,
     "metadata": {},
     "output_type": "execute_result"
    }
   ],
   "source": [
    "#Ans_8.\n",
    "date1 = input(\"Enter the first date and time (YYYY-MM-DD) : \")\n",
    "date2 = input(\"Enter the second date and time (YYYY-MM-DD): \")\n",
    "data = ({'start_date':[pd.Timestamp(date1)], 'end_date':[pd.Timestamp(date2)]})\n",
    "df = pd.DataFrame(data)\n",
    "df['start_date'] = pd.to_datetime(df['start_date'])\n",
    "df['end_date'] = pd.to_datetime(df['end_date'])\n",
    "df['diff'] = df['end_date'] - df['start_date']\n",
    "#df['diff_second']= df['diff'].dt.total_seconds()\n",
    "df['diff_minutes']= df['diff'].dt.total_seconds() / 60\n",
    "df['diff_hours']= df['diff'].dt.total_seconds() / 60 / 60\n",
    "df"
   ]
  },
  {
   "cell_type": "markdown",
   "id": "fc0899a9-5455-418a-81ea-076c4c5416d2",
   "metadata": {},
   "source": [
    "Q9. Write a Python program that reads a CSV file containing categorical data and converts a specified\n",
    "column to a categorical data type. The program should prompt the user to enter the file path, column\n",
    "name, and category order, and then display the sorted data."
   ]
  },
  {
   "cell_type": "code",
   "execution_count": 16,
   "id": "146863ac-c324-43c8-b4ed-1b23cef58f7c",
   "metadata": {},
   "outputs": [
    {
     "name": "stdin",
     "output_type": "stream",
     "text": [
      "Enter the CSV file path:  categorical_data.csv\n",
      "Enter the name of the column to convert to categorical data type:  colors\n",
      "Enter the category order (comma-separated):  Blue,Red,Green\n"
     ]
    },
    {
     "data": {
      "text/html": [
       "<div>\n",
       "<style scoped>\n",
       "    .dataframe tbody tr th:only-of-type {\n",
       "        vertical-align: middle;\n",
       "    }\n",
       "\n",
       "    .dataframe tbody tr th {\n",
       "        vertical-align: top;\n",
       "    }\n",
       "\n",
       "    .dataframe thead th {\n",
       "        text-align: right;\n",
       "    }\n",
       "</style>\n",
       "<table border=\"1\" class=\"dataframe\">\n",
       "  <thead>\n",
       "    <tr style=\"text-align: right;\">\n",
       "      <th></th>\n",
       "      <th>colors</th>\n",
       "    </tr>\n",
       "  </thead>\n",
       "  <tbody>\n",
       "    <tr>\n",
       "      <th>1</th>\n",
       "      <td>Blue</td>\n",
       "    </tr>\n",
       "    <tr>\n",
       "      <th>4</th>\n",
       "      <td>Blue</td>\n",
       "    </tr>\n",
       "    <tr>\n",
       "      <th>0</th>\n",
       "      <td>Red</td>\n",
       "    </tr>\n",
       "    <tr>\n",
       "      <th>3</th>\n",
       "      <td>Red</td>\n",
       "    </tr>\n",
       "    <tr>\n",
       "      <th>2</th>\n",
       "      <td>Green</td>\n",
       "    </tr>\n",
       "    <tr>\n",
       "      <th>5</th>\n",
       "      <td>Green</td>\n",
       "    </tr>\n",
       "  </tbody>\n",
       "</table>\n",
       "</div>"
      ],
      "text/plain": [
       "  colors\n",
       "1   Blue\n",
       "4   Blue\n",
       "0    Red\n",
       "3    Red\n",
       "2  Green\n",
       "5  Green"
      ]
     },
     "execution_count": 16,
     "metadata": {},
     "output_type": "execute_result"
    }
   ],
   "source": [
    "#Ans_9.\n",
    "file_path = input(\"Enter the CSV file path: \")\n",
    "df1 = pd.read_csv(file_path)\n",
    "\n",
    "column_name = input(\"Enter the name of the column to convert to categorical data type: \")\n",
    "categories = input(\"Enter the category order (comma-separated): \").split(',')\n",
    "df1[column_name] = pd.Categorical(df1[column_name], categories=categories, ordered=True)\n",
    "df_sorted = df1.sort_values(by=column_name)\n",
    "df_sorted"
   ]
  },
  {
   "cell_type": "markdown",
   "id": "3cb96d77-3540-45a3-bca5-77578d6a6ab2",
   "metadata": {},
   "source": [
    "Q10. Write a Python program that reads a CSV file containing sales data for different products and\n",
    "visualizes the data using a stacked bar chart to show the sales of each product category over time. The\n",
    "program should prompt the user to enter the file path and display the chart."
   ]
  },
  {
   "cell_type": "code",
   "execution_count": 19,
   "id": "81f5bb21-6f93-41d4-bfde-cd64ced99cce",
   "metadata": {},
   "outputs": [],
   "source": [
    "#Ans_10.\n",
    "#CSV Data Set\n",
    "data_set = pd.DataFrame({\"Sales_data\":[2,4,6,8,9],\n",
    "             \"diff_product\":[\"tooth_brush\",\"toothpaste\",\"hair_come\",\"hand_wash\",\"clips\"]})\n",
    "data_set.to_csv(\"Sales_data_set.csv\", index= False)"
   ]
  },
  {
   "cell_type": "code",
   "execution_count": 23,
   "id": "9825d2ad-fd2d-44e3-9a09-59621ef34e5b",
   "metadata": {},
   "outputs": [
    {
     "name": "stdin",
     "output_type": "stream",
     "text": [
      "Enter the CSV file path:  Sales_data_set.csv\n"
     ]
    },
    {
     "data": {
      "text/plain": [
       "<AxesSubplot: title={'center': 'Sales Data for Product'}, xlabel='diff_product'>"
      ]
     },
     "execution_count": 23,
     "metadata": {},
     "output_type": "execute_result"
    },
    {
     "data": {
      "image/png": "[encoded data removed]",
      "text/plain": [
       "<Figure size 640x480 with 1 Axes>"
      ]
     },
     "metadata": {},
     "output_type": "display_data"
    }
   ],
   "source": [
    "file_path = input(\"Enter the CSV file path: \")\n",
    "df_data = pd.read_csv(file_path)\n",
    "df_data.plot.bar(x='diff_product', stacked=True, title='Sales Data for Product')"
   ]
  },
  {
   "cell_type": "markdown",
   "id": "65f420ef-8686-4219-b106-d1f0b7b2199e",
   "metadata": {},
   "source": [
    "Q11. You are given a CSV file containing student data that includes the student ID and their test score. Write\n",
    "a Python program that reads the CSV file, calculates the mean, median, and mode of the test scores, and\n",
    "displays the results in a table.\n",
    "The program should do the following\n",
    "I Prompt the user to enter the file path of the CSV file containing the student dataR\n",
    "I Read the CSV file into a Pandas DataFrameR\n",
    "I Calculate the mean, median, and mode of the test scores using Pandas toolsR\n",
    "I Display the mean, median, and mode in a table.\n",
    "Assume the CSV file contains the following columns\n",
    "I Student ID: The ID of the student\n",
    "I Test Score: The score of the student's test.\n",
    "Example usage of the program:\n",
    "Enter the file path of the CSV file containing the student data: student_data.csv\n",
    "+-----------+--------+\n",
    "| Statistic | Value |\n",
    "+-----------+--------+\n",
    "| Mean | 79.6 |\n",
    "| Median | 82 |\n",
    "| Mode | 85, 90 |\n",
    "+-----------+--------+\n",
    "Assume that the CSV file student_data.csv contains the following data:\n",
    "Student ID,Test Score\n",
    "1,85\n",
    "2,90\n",
    "3,80\n",
    "4,75\n",
    "5,85\n",
    "6,82\n",
    "7,78\n",
    "8,85\n",
    "9,90\n",
    "10,85\n",
    "The program should calculate the mean, median, and mode of the test scores and display the results\n",
    "in a table."
   ]
  },
  {
   "cell_type": "code",
   "execution_count": 75,
   "id": "118ecec6-7d2f-4794-ad15-7ff6bb0dfb9a",
   "metadata": {},
   "outputs": [],
   "source": [
    "#Ans_11.\n",
    "import pandas as pd\n",
    "student_data = pd.DataFrame({\"Student ID\":[1,2,3,4,5,6,7,8,9,10],\n",
    "              \"Test Score\":[85,90,80,75,85,82,78,85,90,85]})\n",
    "student_data.to_csv(\"student_data.csv\",index = False)"
   ]
  },
  {
   "cell_type": "code",
   "execution_count": 76,
   "id": "c94377fd-0bca-45ed-b3aa-fc3a11038e4d",
   "metadata": {},
   "outputs": [
    {
     "name": "stdin",
     "output_type": "stream",
     "text": [
      "Enter the CSV file path:  student_data.csv\n"
     ]
    }
   ],
   "source": [
    "file_path = input(\"Enter the CSV file path: \")\n",
    "df_st_data = pd.read_csv(file_path)"
   ]
  },
  {
   "cell_type": "code",
   "execution_count": 84,
   "id": "12636b52-ceac-44e8-b143-15ff652fbcc6",
   "metadata": {},
   "outputs": [
    {
     "data": {
      "text/html": [
       "<div>\n",
       "<style scoped>\n",
       "    .dataframe tbody tr th:only-of-type {\n",
       "        vertical-align: middle;\n",
       "    }\n",
       "\n",
       "    .dataframe tbody tr th {\n",
       "        vertical-align: top;\n",
       "    }\n",
       "\n",
       "    .dataframe thead th {\n",
       "        text-align: right;\n",
       "    }\n",
       "</style>\n",
       "<table border=\"1\" class=\"dataframe\">\n",
       "  <thead>\n",
       "    <tr style=\"text-align: right;\">\n",
       "      <th></th>\n",
       "      <th>Value</th>\n",
       "    </tr>\n",
       "    <tr>\n",
       "      <th>Statistic</th>\n",
       "      <th></th>\n",
       "    </tr>\n",
       "  </thead>\n",
       "  <tbody>\n",
       "    <tr>\n",
       "      <th>Mean</th>\n",
       "      <td>83.5</td>\n",
       "    </tr>\n",
       "    <tr>\n",
       "      <th>Median</th>\n",
       "      <td>85.0</td>\n",
       "    </tr>\n",
       "    <tr>\n",
       "      <th>Mode</th>\n",
       "      <td>85.0</td>\n",
       "    </tr>\n",
       "  </tbody>\n",
       "</table>\n",
       "</div>"
      ],
      "text/plain": [
       "           Value\n",
       "Statistic       \n",
       "Mean        83.5\n",
       "Median      85.0\n",
       "Mode        85.0"
      ]
     },
     "execution_count": 84,
     "metadata": {},
     "output_type": "execute_result"
    }
   ],
   "source": [
    "df = df_st_data[\"Test Score\"]\n",
    "x = df.mean()\n",
    "y = df.median()\n",
    "z = df.mode()[0] \n",
    "table = pd.DataFrame({\"Statistic\":[\"Mean\", \"Median\", \"Mode\"],\n",
    "                      \"Value\":[x,y,z]})\n",
    "table.set_index(\"Statistic\",inplace=True)\n",
    "table"
   ]
  },
  {
   "cell_type": "code",
   "execution_count": null,
   "id": "f435bb4a-f211-4fa0-b0cc-ff03212c2024",
   "metadata": {},
   "outputs": [],
   "source": []
  }
 ],
 "metadata": {
  "kernelspec": {
   "display_name": "Python 3 (ipykernel)",
   "language": "python",
   "name": "python3"
  },
  "language_info": {
   "codemirror_mode": {
    "name": "ipython",
    "version": 3
   },
   "file_extension": ".py",
   "mimetype": "text/x-python",
   "name": "python",
   "nbconvert_exporter": "python",
   "pygments_lexer": "ipython3",
   "version": "3.10.8"
  }
 },
 "nbformat": 4,
 "nbformat_minor": 5
}
